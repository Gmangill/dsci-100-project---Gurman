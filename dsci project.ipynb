{
 "cells": [
  {
   "cell_type": "markdown",
   "id": "fd9e9e68-396b-456e-aa95-6cc97644aeee",
   "metadata": {},
   "source": [
    "Analyzing Player Behaviour to Predict Newsletter Supscriptions\n",
    "\n",
    "By: Gurman Gill"
   ]
  },
  {
   "cell_type": "code",
   "execution_count": 3,
   "id": "b267a4a6-b940-4e73-b187-94b293d05b59",
   "metadata": {},
   "outputs": [
    {
     "name": "stderr",
     "output_type": "stream",
     "text": [
      "── \u001b[1mAttaching core tidyverse packages\u001b[22m ──────────────────────── tidyverse 2.0.0 ──\n",
      "\u001b[32m✔\u001b[39m \u001b[34mdplyr    \u001b[39m 1.1.4     \u001b[32m✔\u001b[39m \u001b[34mreadr    \u001b[39m 2.1.5\n",
      "\u001b[32m✔\u001b[39m \u001b[34mforcats  \u001b[39m 1.0.0     \u001b[32m✔\u001b[39m \u001b[34mstringr  \u001b[39m 1.5.1\n",
      "\u001b[32m✔\u001b[39m \u001b[34mggplot2  \u001b[39m 3.5.1     \u001b[32m✔\u001b[39m \u001b[34mtibble   \u001b[39m 3.2.1\n",
      "\u001b[32m✔\u001b[39m \u001b[34mlubridate\u001b[39m 1.9.3     \u001b[32m✔\u001b[39m \u001b[34mtidyr    \u001b[39m 1.3.1\n",
      "\u001b[32m✔\u001b[39m \u001b[34mpurrr    \u001b[39m 1.0.2     \n",
      "── \u001b[1mConflicts\u001b[22m ────────────────────────────────────────── tidyverse_conflicts() ──\n",
      "\u001b[31m✖\u001b[39m \u001b[34mdplyr\u001b[39m::\u001b[32mfilter()\u001b[39m masks \u001b[34mstats\u001b[39m::filter()\n",
      "\u001b[31m✖\u001b[39m \u001b[34mdplyr\u001b[39m::\u001b[32mlag()\u001b[39m    masks \u001b[34mstats\u001b[39m::lag()\n",
      "\u001b[36mℹ\u001b[39m Use the conflicted package (\u001b[3m\u001b[34m<http://conflicted.r-lib.org/>\u001b[39m\u001b[23m) to force all conflicts to become errors\n",
      "── \u001b[1mAttaching packages\u001b[22m ────────────────────────────────────── tidymodels 1.1.1 ──\n",
      "\n",
      "\u001b[32m✔\u001b[39m \u001b[34mbroom       \u001b[39m 1.0.6     \u001b[32m✔\u001b[39m \u001b[34mrsample     \u001b[39m 1.2.1\n",
      "\u001b[32m✔\u001b[39m \u001b[34mdials       \u001b[39m 1.3.0     \u001b[32m✔\u001b[39m \u001b[34mtune        \u001b[39m 1.1.2\n",
      "\u001b[32m✔\u001b[39m \u001b[34minfer       \u001b[39m 1.0.7     \u001b[32m✔\u001b[39m \u001b[34mworkflows   \u001b[39m 1.1.4\n",
      "\u001b[32m✔\u001b[39m \u001b[34mmodeldata   \u001b[39m 1.4.0     \u001b[32m✔\u001b[39m \u001b[34mworkflowsets\u001b[39m 1.0.1\n",
      "\u001b[32m✔\u001b[39m \u001b[34mparsnip     \u001b[39m 1.2.1     \u001b[32m✔\u001b[39m \u001b[34myardstick   \u001b[39m 1.3.1\n",
      "\u001b[32m✔\u001b[39m \u001b[34mrecipes     \u001b[39m 1.1.0     \n",
      "\n",
      "── \u001b[1mConflicts\u001b[22m ───────────────────────────────────────── tidymodels_conflicts() ──\n",
      "\u001b[31m✖\u001b[39m \u001b[34mscales\u001b[39m::\u001b[32mdiscard()\u001b[39m masks \u001b[34mpurrr\u001b[39m::discard()\n",
      "\u001b[31m✖\u001b[39m \u001b[34mdplyr\u001b[39m::\u001b[32mfilter()\u001b[39m   masks \u001b[34mstats\u001b[39m::filter()\n",
      "\u001b[31m✖\u001b[39m \u001b[34mrecipes\u001b[39m::\u001b[32mfixed()\u001b[39m  masks \u001b[34mstringr\u001b[39m::fixed()\n",
      "\u001b[31m✖\u001b[39m \u001b[34mdplyr\u001b[39m::\u001b[32mlag()\u001b[39m      masks \u001b[34mstats\u001b[39m::lag()\n",
      "\u001b[31m✖\u001b[39m \u001b[34myardstick\u001b[39m::\u001b[32mspec()\u001b[39m masks \u001b[34mreadr\u001b[39m::spec()\n",
      "\u001b[31m✖\u001b[39m \u001b[34mrecipes\u001b[39m::\u001b[32mstep()\u001b[39m   masks \u001b[34mstats\u001b[39m::step()\n",
      "\u001b[34m•\u001b[39m Search for functions across packages at \u001b[32mhttps://www.tidymodels.org/find/\u001b[39m\n",
      "\n",
      "\n",
      "Attaching package: ‘janitor’\n",
      "\n",
      "\n",
      "The following objects are masked from ‘package:stats’:\n",
      "\n",
      "    chisq.test, fisher.test\n",
      "\n",
      "\n"
     ]
    }
   ],
   "source": [
    "library(tidyverse)\n",
    "library(tidymodels)\n",
    "library(readr)\n",
    "library(janitor)\n",
    "library(knitr)\n",
    "library(ggplot2)\n",
    "library(rmarkdown)\n",
    "theme_set(theme_minimal())\n",
    "set.seed(2025)"
   ]
  },
  {
   "cell_type": "code",
   "execution_count": 4,
   "id": "fc892608-3296-4512-bc96-693e453e9d94",
   "metadata": {},
   "outputs": [],
   "source": [
    "# Introduction"
   ]
  },
  {
   "cell_type": "markdown",
   "id": "1fa04bf7-980e-4dbb-8d03-e47ac6107f7f",
   "metadata": {},
   "source": [
    "Background: Understanding player behavior is the goal of UBC's Minecraft Research Server Project in order to optimize server resource allocation and engagement tactics.  Whether a player signs up for a newsletter about the game is a crucial engagement indicator.  A player's interest and likelihood of sustained engagement are reflected in their subscriptions, which makes them a useful target for predictive modeling."
   ]
  },
  {
   "cell_type": "markdown",
   "id": "975c7121-a730-44fe-9a69-fa1406e85d77",
   "metadata": {},
   "source": [
    "Question: Can we predict whether a player will subscribe to the newsletter based on their age, experience level, gender, play duration, and session behavior using KNN classification? "
   ]
  },
  {
   "cell_type": "markdown",
   "id": "87941a76-7999-472e-a619-ab016937834e",
   "metadata": {},
   "source": [
    "Data Description: \n",
    "\n",
    "We have two datasets provided by the Minecraft Research Server Project team.\n",
    "\n",
    "players.csv:\n",
    "- Rows: 196 players\n",
    "- Columns: 7 variables\n",
    "\n",
    "\n",
    "sessions.csv:\n",
    "- Rows - 1535 sessions\n",
    "- Columns - 5 variables\n",
    "\n",
    "Below is a table of the relavent variables\n",
    "\n",
    "| Variable              | Type        | Description                                                    |\n",
    "|----------------------|-------------|----------------------------------------------------------------|\n",
    "| `experience`          | Categorical | Self-reported experience level (Amateur, Regular, Pro, etc.)   |\n",
    "| `subscribe`           | Boolean     | Whether player subscribed to the newsletter                    |\n",
    "| `hashedEmail`         | Identifier  | Anonymized unique player ID                                    |\n",
    "| `played_hours`        | Numeric     | Total hours recorded by Minecraft for each player              |\n",
    "| `name`                | String      | Player's name (not used in modeling)                           |\n",
    "| `gender`              | Categorical | Player's reported gender                                       |\n",
    "| `Age`                 | Numeric     | Age of the player (2 values missing originally)                |\n",
    "| `start_time`          | Numeric     | Start time of sessions                                         |\n",
    "| `end_time`            | Numeric     | End time of sessions                                           |"
   ]
  },
  {
   "cell_type": "markdown",
   "id": "823d1eb0-0db5-47a4-ba1b-c3880086f5e9",
   "metadata": {},
   "source": [
    "Considerations and limitations of data: \n",
    "- Self-reported fields like `age`, `gender`, and `experience` may be inaccurate\n",
    "- Only aggregate features were used; individual session behavior (e.g. time of day, frequency) not explored"
   ]
  }
 ],
 "metadata": {
  "kernelspec": {
   "display_name": "R",
   "language": "R",
   "name": "ir"
  },
  "language_info": {
   "codemirror_mode": "r",
   "file_extension": ".r",
   "mimetype": "text/x-r-source",
   "name": "R",
   "pygments_lexer": "r",
   "version": "4.3.3"
  }
 },
 "nbformat": 4,
 "nbformat_minor": 5
}
